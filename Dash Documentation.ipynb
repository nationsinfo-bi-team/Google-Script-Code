{
 "cells": [
  {
   "cell_type": "code",
   "execution_count": 1,
   "metadata": {},
   "outputs": [],
   "source": [
    "from __future__ import print_function\n",
    "import requests\n",
    "import httplib2\n",
    "from oauth2client import client\n",
    "from oauth2client import tools\n",
    "from oauth2client.file import Storage\n",
    "import requests\n",
    "import json\n",
    "import os\n",
    "from requests.auth import HTTPBasicAuth\n",
    "import gspread\n",
    "from oauth2client.service_account import ServiceAccountCredentials"
   ]
  },
  {
   "cell_type": "code",
   "execution_count": 2,
   "metadata": {},
   "outputs": [],
   "source": [
    "try:\n",
    "    API_ENDPOINT = \"http://sisense3.nationsinfocorp.com:8081/api/v1/authentication/login\" \n",
    "    payload = {'username':'BI','password':'goNat10ns'}\n",
    "    session = requests.Session()\n",
    "    response = session.post(url = API_ENDPOINT, data = payload, auth=HTTPBasicAuth('sisense','b2Sense#2'))\n",
    "    response.raise_for_status() #throw exception if request does not retun 2xx\n",
    "    # print(response.text)\n",
    "    access_token = json.loads(response.text)['access_token']\n",
    "    headers = {\"PassThruAuth\": \"Bearer \" + access_token}\n",
    "    # print(headers)\n",
    "except requests.exceptions.RequestException as e: \n",
    "    print (e)\n",
    "# Dash API Call\n",
    "try:\n",
    "    url = \"http://sisense3.nationsinfocorp.com:8081/api/v1/dashboards\"\n",
    "    response = requests.get(url, headers=headers,auth=HTTPBasicAuth('sisense','b2Sense#2'))\n",
    "    response.raise_for_status() #throw exception if request does not return 2xx\n",
    "    # print(response)\n",
    "    # print(response.text)\n",
    "    dashes = json.loads(response.text)\n",
    "except requests.exceptions.RequestException as e: \n",
    "    print (e)"
   ]
  },
  {
   "cell_type": "code",
   "execution_count": 3,
   "metadata": {},
   "outputs": [],
   "source": [
    "# Dash Definition\n",
    "def getsubset(data):\n",
    "    # change to a list\n",
    "    l = []\n",
    "    for i in data:\n",
    "        l.append(i)\n",
    "    return l\n",
    "\n",
    "\n",
    "def visit(data, i):\n",
    "    # get the ith item in data\n",
    "    return(data[getsubset(data)[i]])\n",
    "\n",
    "\n",
    "def getwidget(data):\n",
    "    # get the widgets of a dash\n",
    "    return(data[\"widgets\"])\n",
    "\n",
    "\n",
    "def getPanel(widget):\n",
    "    # get the panel of a widget(rows, values, columns, filters)\n",
    "    return(widget[\"metadata\"][\"panels\"])\n",
    "\n",
    "\n",
    "def panel(widget, string):\n",
    "    # search the subpanel of a widget by subpanel name(rows, values, columns, filters)\n",
    "    t = \"not found\"\n",
    "    for i in range(len(getPanel(widget))):\n",
    "        if getPanel(widget)[i][\"name\"] == string:\n",
    "            t = getPanel(widget)[i]\n",
    "            break\n",
    "    return([t, i])\n",
    "\n",
    "\n",
    "def getitem(panel):\n",
    "    # get the items of a panel\n",
    "    return(panel[\"items\"])\n",
    "\n",
    "\n",
    "def getjaql(item):\n",
    "    return(item[\"jaql\"])\n",
    "\n",
    "\n",
    "def jaql(panel, string):\n",
    "    # search JAQL by title(name)\n",
    "    t = \"not found\"\n",
    "    item = getitem(panel)\n",
    "    for i in range(len(item)):\n",
    "        if getjaql(item[i])[\"title\"] == string:\n",
    "            t = getjaql(item[i])\n",
    "            break\n",
    "    return([t, i])\n",
    "\n",
    "\n",
    "def measure(context):\n",
    "    t = \"t\"\n",
    "    if \"dim\" in context:\n",
    "        t = \"Bottom\"\n",
    "    elif \"type\" in context:\n",
    "        if context[\"type\"] == \"measure\":\n",
    "            t = \"Measure\"\n",
    "    elif len(context) > 0 and \"type\" not in context:\n",
    "        t = \"Collection\"\n",
    "    return(t)\n",
    "\n",
    "\n",
    "def explorer(context, l=[], string=\"\", count=0):\n",
    "\n",
    "    if measure(context) == \"Bottom\":\n",
    "        l.append(string+\"|\"+str(count)+\".\" +\n",
    "                 context[\"table\"]+\"|\"+context[\"title\"]+\"|\"+context[\"column\"])\n",
    "    if measure(context) == \"Measure\":\n",
    "        count = count+1\n",
    "        explorer(context[\"context\"], l, string+\"|\" +\n",
    "                 str(count)+\".\"+context[\"title\"], count)\n",
    "    if measure(context) == \"Collection\":\n",
    "        for i in context:\n",
    "            explorer(context[i], l, string, count)\n",
    "    return(l)\n",
    "\n",
    "\n",
    "def metricMap(context, l=[], string=\"\", count=0, l2=[], main=\"\", cube=\"\"):\n",
    "    # 'Metric name', 'cube Name', 'table Name', 'metric title in formula', 'column name']]\n",
    "    if measure(context) == \"Bottom\":\n",
    "        if count == 1:\n",
    "            c = [main, cube, context[\"table\"],\n",
    "                 context[\"title\"], context[\"column\"]]\n",
    "        elif count == 0:\n",
    "            c = [context[\"dim\"], cube, context[\"table\"],\n",
    "                 context[\"title\"], context[\"column\"]]\n",
    "        else:\n",
    "            c = [string, cube, context[\"table\"],\n",
    "                 context[\"title\"], context[\"column\"]]\n",
    "        if c not in l:\n",
    "            l.append(c)\n",
    "    if measure(context) == \"Measure\":\n",
    "        count = count+1\n",
    "        if count == 1:\n",
    "            mainm = context[\"title\"]\n",
    "            c1 = [cube, mainm, mainm]\n",
    "            if c1 not in l2:\n",
    "                l2.append(c1)\n",
    "            metricMap(context[\"context\"], l, mainm, count, l2, mainm, cube)\n",
    "        else:\n",
    "            c2 = [cube, main, context[\"title\"]]\n",
    "            c3 = [cube, string, context[\"title\"]]\n",
    "            if c2 not in l2:\n",
    "                l2.append(c2)\n",
    "            if c3 not in l2:\n",
    "                l2.append(c3)\n",
    "            metricMap(context[\"context\"], l,\n",
    "                      context[\"title\"], count, l2, main, cube)\n",
    "    if measure(context) == \"Collection\":\n",
    "        for i in context:\n",
    "            metricMap(context[i], l, string, count, l2, main, cube)\n",
    "    return(l)"
   ]
  },
  {
   "cell_type": "code",
   "execution_count": null,
   "metadata": {},
   "outputs": [],
   "source": []
  },
  {
   "cell_type": "code",
   "execution_count": 4,
   "metadata": {},
   "outputs": [],
   "source": [
    "# Get values from Sisense to Write to Spreadsheet\n",
    "values = [['Folder', 'Dashboard', 'Widget',\n",
    "           'Field_Type', 'DashID', 'Metrics', 'cube']]\n",
    "metrics = [['cube', 'Metric', 'Subset']]\n",
    "location = [['Metric', 'cube', 'table', 'title', 'column']]\n",
    "\n",
    "for l in range(len(dashes)):  \n",
    "    try:\n",
    "        oid = dashes[l][\"oid\"]\n",
    "        daily = json.loads(requests.get(url+\"/\"+oid+\"/export/dash\",\n",
    "                                        headers=headers, auth=HTTPBasicAuth('sisense', 'b2Sense#2')).text)\n",
    "        dname = daily[\"title\"]\n",
    "        cube = daily[\"datasource\"][\"title\"]\n",
    "        url1 = \"http://sisense3.nationsinfocorp.com:8081/api/v1/folders/\" + \\\n",
    "            daily['parentFolder']\n",
    "        folder = json.loads(requests.get(url1, headers=headers, auth=HTTPBasicAuth('sisense', 'b2Sense#2')).text)\n",
    "        if \"parentId\" in getsubset(folder):\n",
    "            url2 = \"http://sisense3.nationsinfocorp.com:8081/api/v1/folders/\" + \\\n",
    "                daily['parentFolder']+\"/ancestors\"\n",
    "            foldername = json.loads(requests.get(url2, headers=headers, auth=HTTPBasicAuth(\n",
    "                'sisense', 'b2Sense#2')).text)[0][\"name\"]\n",
    "        else:\n",
    "            foldername = folder[\"name\"]\n",
    "    except:\n",
    "        continue\n",
    "\n",
    "    for k in range(len(getwidget(daily))):\n",
    "        try:\n",
    "            widget = getwidget(daily)[k]\n",
    "            wname = widget[\"title\"]\n",
    "\n",
    "            for j in range(len(getPanel(widget))):\n",
    "                item = getitem(getPanel(widget)[j])\n",
    "                name = getPanel(widget)[j][\"name\"]\n",
    "                for i in range(len(getsubset(item))):\n",
    "                    row = [foldername, dname, wname, name, daily[\"oid\"], getjaql(item[i])[\n",
    "                        \"title\"], cube]\n",
    "                    values.append(row)\n",
    "                    e = metricMap(\n",
    "                        getjaql(item[i]), location, \"\", 0, metrics, \"\", cube)\n",
    "        except:\n",
    "            continue"
   ]
  },
  {
   "cell_type": "code",
   "execution_count": null,
   "metadata": {},
   "outputs": [],
   "source": [
    "### Write to Google Sheet"
   ]
  },
  {
   "cell_type": "code",
   "execution_count": 34,
   "metadata": {
    "ExecuteTime": {
     "end_time": "2019-05-28T20:00:41.761729Z",
     "start_time": "2019-05-28T20:00:41.572267Z"
    }
   },
   "outputs": [],
   "source": [
    "os.chdir(r'C:\\Users\\Yu Zhang\\Desktop\\Project')\n",
    "# Scope for Google Api\n",
    "scope = [\"https://spreadsheets.google.com/feeds\",'https://www.googleapis.com/auth/spreadsheets',\"https://www.googleapis.com/auth/drive.file\",\"https://www.googleapis.com/auth/drive\"]\n",
    "# creds = ServiceAccountCredentials.from_json_keyfile_name(\"creds.json\", scope)\n",
    "creds = ServiceAccountCredentials.from_json_keyfile_name(\"creds_bi_dash_documentation.json\", scope)\n",
    "client = gspread.authorize(creds)"
   ]
  },
  {
   "cell_type": "code",
   "execution_count": 37,
   "metadata": {
    "ExecuteTime": {
     "end_time": "2019-05-28T20:24:05.131866Z",
     "start_time": "2019-05-28T20:24:05.129288Z"
    }
   },
   "outputs": [],
   "source": [
    "# # # Create a Spreadsheet and share it with your email \n",
    "# sh = client.create('Dash Documentation')   \n",
    "# sh.share('bi_team@nationsinfocorp.com', perm_type='user', role='writer')"
   ]
  },
  {
   "cell_type": "code",
   "execution_count": 38,
   "metadata": {
    "ExecuteTime": {
     "end_time": "2019-05-28T20:24:21.908732Z",
     "start_time": "2019-05-28T20:24:21.655799Z"
    }
   },
   "outputs": [],
   "source": [
    "sheet = client.open(\"Dash Documentation\")  # Open the spreadhseet"
   ]
  },
  {
   "cell_type": "code",
   "execution_count": 39,
   "metadata": {
    "ExecuteTime": {
     "end_time": "2019-05-28T20:27:25.485505Z",
     "start_time": "2019-05-28T20:27:23.173616Z"
    }
   },
   "outputs": [],
   "source": [
    "# Create a Worksheet\n",
    "worksheet1 = sheet.add_worksheet(title=\"Dash\", rows=\"1000\", cols=\"8\")\n",
    "worksheet2 = sheet.add_worksheet(title=\"Metric\", rows=\"1000\", cols=\"5\")\n",
    "worksheet3 = sheet.add_worksheet(title=\"Table\",rows=\"1000\", cols=\"8\")"
   ]
  },
  {
   "cell_type": "code",
   "execution_count": 40,
   "metadata": {
    "ExecuteTime": {
     "end_time": "2019-05-28T20:28:17.152374Z",
     "start_time": "2019-05-28T20:27:43.011000Z"
    }
   },
   "outputs": [
    {
     "data": {
      "text/plain": [
       "{'spreadsheetId': '1K_arC_0xh0EAnCxthVDYKPGQOgr4CkgeoNYV1A1laM8',\n",
       " 'updatedRange': 'Dash!A1:G69218',\n",
       " 'updatedRows': 69218,\n",
       " 'updatedColumns': 7,\n",
       " 'updatedCells': 484526}"
      ]
     },
     "execution_count": 40,
     "metadata": {},
     "output_type": "execute_result"
    }
   ],
   "source": [
    "# Write to different worksheets in google sheet\n",
    "sheet.values_update(\n",
    "    'Dash!A1', \n",
    "    params={'valueInputOption': 'RAW'}, \n",
    "    body={'values': values}\n",
    ")"
   ]
  },
  {
   "cell_type": "code",
   "execution_count": 41,
   "metadata": {
    "ExecuteTime": {
     "end_time": "2019-05-28T20:28:21.760903Z",
     "start_time": "2019-05-28T20:28:19.567625Z"
    }
   },
   "outputs": [
    {
     "data": {
      "text/plain": [
       "{'spreadsheetId': '1K_arC_0xh0EAnCxthVDYKPGQOgr4CkgeoNYV1A1laM8',\n",
       " 'updatedRange': 'Metric!A1:C9272',\n",
       " 'updatedRows': 9272,\n",
       " 'updatedColumns': 3,\n",
       " 'updatedCells': 27816}"
      ]
     },
     "execution_count": 41,
     "metadata": {},
     "output_type": "execute_result"
    }
   ],
   "source": [
    "sheet.values_update(\n",
    "    'Metric!A1', \n",
    "    params={'valueInputOption': 'RAW'}, \n",
    "    body={'values': metrics}\n",
    ")"
   ]
  },
  {
   "cell_type": "code",
   "execution_count": 42,
   "metadata": {
    "ExecuteTime": {
     "end_time": "2019-05-28T20:28:33.879150Z",
     "start_time": "2019-05-28T20:28:27.275090Z"
    }
   },
   "outputs": [
    {
     "data": {
      "text/plain": [
       "{'spreadsheetId': '1K_arC_0xh0EAnCxthVDYKPGQOgr4CkgeoNYV1A1laM8',\n",
       " 'updatedRange': 'Table!A1:E18802',\n",
       " 'updatedRows': 18802,\n",
       " 'updatedColumns': 5,\n",
       " 'updatedCells': 94010}"
      ]
     },
     "execution_count": 42,
     "metadata": {},
     "output_type": "execute_result"
    }
   ],
   "source": [
    "sheet.values_update(\n",
    "    'Table!A1', \n",
    "    params={'valueInputOption': 'RAW'}, \n",
    "    body={'values': location}\n",
    ")"
   ]
  },
  {
   "cell_type": "code",
   "execution_count": null,
   "metadata": {},
   "outputs": [],
   "source": []
  }
 ],
 "metadata": {
  "hide_input": false,
  "kernelspec": {
   "display_name": "Python 3",
   "language": "python",
   "name": "python3"
  },
  "language_info": {
   "codemirror_mode": {
    "name": "ipython",
    "version": 3
   },
   "file_extension": ".py",
   "mimetype": "text/x-python",
   "name": "python",
   "nbconvert_exporter": "python",
   "pygments_lexer": "ipython3",
   "version": "3.7.1"
  }
 },
 "nbformat": 4,
 "nbformat_minor": 2
}
